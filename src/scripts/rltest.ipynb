{
 "cells": [
  {
   "cell_type": "code",
   "execution_count": null,
   "metadata": {},
   "outputs": [],
   "source": [
    "#!/usr/bin/env python\n",
    "\n",
    "import numpy as np"
   ]
  },
  {
   "cell_type": "code",
   "execution_count": null,
   "metadata": {},
   "outputs": [],
   "source": [
    "# Define states, actions, and rewards\n",
    "states = np.array([[2, 3, 5]])\n",
    "actions = np.array([[0, 1, 2]])  # 0: decrement, 1: no change, 2: increment\n",
    "rewards = np.array([[0, 0, 1]])  # Rewards for each action in the final state\n",
    "\n",
    "# Initialize Q-table with zeros\n",
    "num_states = states.shape[0]\n",
    "num_actions = actions.shape[1]\n",
    "Q = np.zeros((num_states, num_actions))\n",
    "\n",
    "# Define hyperparameters\n",
    "learning_rate = 0.1\n",
    "discount_factor = 0.9\n",
    "num_episodes = 1000\n"
   ]
  },
  {
   "cell_type": "code",
   "execution_count": null,
   "metadata": {},
   "outputs": [],
   "source": [
    "\n",
    "# Q-learning algorithm\n",
    "for episode in range(num_episodes):\n",
    "    state = states[0]\n",
    "    \n",
    "    while True:\n",
    "        # Choose action using epsilon-greedy policy\n",
    "        if np.random.uniform(0, 1) < 0.5:\n",
    "            action = np.argmax(Q[0])\n",
    "        else:\n",
    "            action = np.random.choice(actions[0])\n",
    "        \n",
    "        # Perform action and observe new state\n",
    "        if action == 0:\n",
    "            new_state = state - 1\n",
    "        elif action == 1:\n",
    "            new_state = state\n",
    "        else:\n",
    "            new_state = state + 1\n",
    "        \n",
    "        # Calculate TD error and update Q-table\n",
    "        td_target = rewards[0, action] + discount_factor * np.max(Q[0])\n",
    "        td_error = td_target - Q[0, action]\n",
    "        Q[0, action] += learning_rate * td_error\n",
    "        \n",
    "        # Check if goal state reached\n",
    "        if np.array_equal(new_state, [1, 0, 0.5]):\n",
    "            break\n",
    "        \n",
    "        state = new_state"
   ]
  },
  {
   "cell_type": "code",
   "execution_count": null,
   "metadata": {},
   "outputs": [],
   "source": [
    "\n",
    "# Print the Q-table\n",
    "print(\"Q-table:\")\n",
    "print(Q)\n"
   ]
  }
 ],
 "metadata": {
  "language_info": {
   "name": "python"
  },
  "orig_nbformat": 4
 },
 "nbformat": 4,
 "nbformat_minor": 2
}
