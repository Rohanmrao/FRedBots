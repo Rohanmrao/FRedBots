{
 "cells": [
  {
   "cell_type": "code",
   "execution_count": null,
   "metadata": {},
   "outputs": [],
   "source": [
    "import math\n",
    "import numpy as np\n",
    "import tensorflow as tf\n",
    "from tensorflow.keras.models import Sequential\n",
    "from tensorflow.keras.layers import Dense\n",
    "from tensorflow.keras.optimizers import Adam"
   ]
  },
  {
   "cell_type": "code",
   "execution_count": null,
   "metadata": {},
   "outputs": [],
   "source": [
    "# print gpu info\n",
    "print(tf.config.list_physical_devices('GPU'))"
   ]
  },
  {
   "cell_type": "code",
   "execution_count": null,
   "metadata": {},
   "outputs": [],
   "source": [
    "# Define the Q-Network model\n",
    "def create_q_network(input_shape, action_space):\n",
    "    model = Sequential(\n",
    "        [\n",
    "            tf.keras.Input(shape=input_shape),\n",
    "            Dense(32, activation='relu'),\n",
    "            Dense(32, activation='relu'),\n",
    "            Dense(action_space, activation='linear')\n",
    "        ]\n",
    "    )\n",
    "    model.compile(loss='mse', optimizer=Adam(learning_rate=0.001))\n",
    "    return model"
   ]
  },
  {
   "cell_type": "code",
   "execution_count": null,
   "metadata": {},
   "outputs": [],
   "source": [
    "def euclidean_distance(p1, p2):\n",
    "    return math.sqrt((p1[0]-p2[0])**2 + (p1[1]-p2[1])**2)"
   ]
  },
  {
   "cell_type": "code",
   "execution_count": null,
   "metadata": {},
   "outputs": [],
   "source": [
    "class ENV():\n",
    "    def __init__(self):\n",
    "        self.steps = 0\n",
    "        self.env_col = 11\n",
    "        self.env_row = 11\n",
    "        self.state = (5, 5)\n",
    "        self.action_space = 4\n",
    "        self.reward = 0\n",
    "        self.done = False\n",
    "        self.goal = (1, 1)\n",
    "\n",
    "    def reset(self):\n",
    "        # self.goal = np.random.randint(0, min(self.env_col, self.env_row), size=2)\n",
    "        self.state = np.random.randint(0, min(self.env_col, self.env_row), size=2)\n",
    "        self.reward = 0\n",
    "        self.done = False\n",
    "        self.steps = 0\n",
    "        return self.state\n",
    "    \n",
    "    def step(self, action):\n",
    "        prev_state = self.state\n",
    "        self.steps += 1\n",
    "        if action == 0: # up\n",
    "            self.state = (self.state[0], self.state[1] + 1)\n",
    "        elif action == 1: # down\n",
    "            self.state = (self.state[0], self.state[1] - 1)\n",
    "        elif action == 2: # left\n",
    "            self.state = (self.state[0] - 1, self.state[1])\n",
    "        elif action == 3: # right\n",
    "            self.state = (self.state[0] + 1, self.state[1])\n",
    "        else:\n",
    "            raise ValueError(\"Invalid action\")\n",
    "        # print(type(self.state), type(self.goal)) # debug\n",
    "        if tuple(self.state) == tuple(self.goal):\n",
    "            self.reward = 100\n",
    "            self.done = True\n",
    "            # self.goal = np.random.randint(0, min(self.env_col, self.env_row), size=2)\n",
    "        elif self.state[0] < 0 or self.state[0] >= self.env_col or self.state[1] < 0 or self.state[1] >= self.env_row:\n",
    "            self.reward = -100\n",
    "            self.done = True\n",
    "        elif self.steps >= 20:\n",
    "            self.reward = -100\n",
    "            self.done = True\n",
    "        else:\n",
    "            if euclidean_distance(self.state, self.goal) <= euclidean_distance(prev_state, self.goal):\n",
    "                self.reward = 1\n",
    "            else:\n",
    "                self.reward = -1\n",
    "        return self.state, self.reward, self.done\n"
   ]
  },
  {
   "cell_type": "code",
   "execution_count": null,
   "metadata": {},
   "outputs": [],
   "source": [
    "#Define the DQN agent\n",
    "class DQNAgent:\n",
    "    def __init__(self, state_shape, action_space, goal):\n",
    "        self.goal = goal\n",
    "        self.state_shape = state_shape\n",
    "        self.action_space = action_space\n",
    "        self.memory = []\n",
    "        self.gamma = 0.95  # Discount factor\n",
    "        self.epsilon = 0.9  # Exploration rate\n",
    "        self.epsilon_decay = 0.995  # Decay rate for exploration rate\n",
    "        self.epsilon_min = 0.01  # Minimum exploration rate\n",
    "        # self.model = create_q_network(state_shape, action_space) # state_shape = (2,)\n",
    "        try:\n",
    "            self.model = tf.keras.models.load_model('model_dqn_pt_to_pt_diff_start_diff_goal.h5') # loading the last saved model\n",
    "        except:\n",
    "            self.model = create_q_network((4,), action_space)\n",
    "\n",
    "    def remember(self, state, goal, action, reward, next_state, done):\n",
    "        self.memory.append((state, goal, action, reward, next_state, done))\n",
    "        if len(self.memory) > 200:\n",
    "            self.memory = self.memory[-200:]\n",
    "\n",
    "    def act(self, state, test=False):\n",
    "        if not test:\n",
    "            if np.random.rand() < self.epsilon:\n",
    "                return np.random.choice(self.action_space)\n",
    "        # print(\"state in action: \",state)\n",
    "        state_goal = np.concatenate((state, self.goal))\n",
    "        state_goal = np.reshape(state_goal, (4,))\n",
    "        state_goal = tf.convert_to_tensor(state_goal)\n",
    "        state_goal = tf.expand_dims(state_goal, 0)\n",
    "        # print(\"Predicting\")\n",
    "        q_values = self.model.predict(state_goal, verbose=0)\n",
    "        return np.argmax(q_values[0])\n",
    "\n",
    "    def replay(self, batch_size):\n",
    "        if len(self.memory) < batch_size:\n",
    "            return\n",
    "        # batch = np.random.choice(self.memory, batch_size, replace=False)\n",
    "        batch_ch = np.random.choice(len(self.memory), batch_size, replace=False)\n",
    "        batch = [self.memory[i] for i in batch_ch]\n",
    "        for state, goal, action, reward, next_state, done in batch:\n",
    "            state = np.reshape(state, self.state_shape)\n",
    "            next_state = np.reshape(next_state, self.state_shape)\n",
    "            target = reward\n",
    "            if not done:\n",
    "                # print(next_state.shape)\n",
    "                next_state_goal = np.concatenate((next_state, self.goal))\n",
    "                next_state_goal = tf.convert_to_tensor(next_state_goal)\n",
    "                next_state_goal = tf.expand_dims(next_state_goal, 0)\n",
    "                target = reward + self.gamma * np.amax(self.model.predict(next_state_goal, verbose=0)[0])\n",
    "            # print(state.shape)\n",
    "            state_goal = np.concatenate((state, self.goal))\n",
    "            state_goal = tf.convert_to_tensor(state_goal)\n",
    "            state_goal = tf.expand_dims(state_goal, 0)\n",
    "            # print(\"Predicting\")\n",
    "            target_f = self.model.predict(state_goal, verbose=0)\n",
    "            target_f[0][action] = target\n",
    "            # print(state_goal[0], state_goal[1])\n",
    "            # print(\"Fitting model\")\n",
    "            self.model.fit(state_goal, target_f, epochs=1, verbose=0)\n",
    "        if self.epsilon > self.epsilon_min:\n",
    "            self.epsilon *= self.epsilon_decay\n"
   ]
  },
  {
   "cell_type": "code",
   "execution_count": null,
   "metadata": {},
   "outputs": [],
   "source": [
    "# Initialize the environment and agent\n",
    "state_shape = (2,)  # Example state shape, adjust according to your actual state representation # Only x and y coordinates\n",
    "action_space = 4  # Example action space size, adjust according to your actual actions # 4 actions: up, down, left, right\n",
    "env = ENV()\n",
    "agent = DQNAgent(state_shape, action_space, env.goal)"
   ]
  },
  {
   "cell_type": "code",
   "execution_count": null,
   "metadata": {},
   "outputs": [],
   "source": [
    "total_reward = []"
   ]
  },
  {
   "cell_type": "code",
   "execution_count": null,
   "metadata": {},
   "outputs": [],
   "source": [
    "#Training loop\n",
    "num_episodes = 50  # Set the number of training episodes\n",
    "batch_size = 32  # Set the batch size for replay\n",
    "start_ep = 0 # Set the starting episode number\n",
    "for episode in range(start_ep, start_ep + num_episodes):\n",
    "    print(\"Episode: \", episode)\n",
    "    state = env.reset()\n",
    "    state = np.reshape(state, state_shape)\n",
    "    done = False\n",
    "    episode_reward = 0\n",
    "    while not done:\n",
    "        action = agent.act(state)\n",
    "        next_state, reward, done = env.step(action)\n",
    "        next_state = np.reshape(next_state, state_shape)\n",
    "        agent.remember(state, env.goal, action, reward, next_state, done)\n",
    "        state = next_state\n",
    "        episode_reward += reward\n",
    "        if len(agent.memory) > batch_size:\n",
    "            agent.replay(batch_size)\n",
    "    # if agent.epsilon > agent.epsilon_min:\n",
    "    #     agent.epsilon *= agent.epsilon_decay\n",
    "    if tuple(state) == tuple(env.goal): # If the agent reaches the goal position, we update the goal position\n",
    "        env.goal = np.random.randint(0, min(env.env_col, env.env_row), size=2)\n",
    "        agent.goal = env.goal\n",
    "    total_reward.append(episode_reward)\n",
    "    print(\"Episode reward: \", episode_reward)\n",
    "    if agent.epsilon > agent.epsilon_min: # Decay the exploration rate\n",
    "        agent.epsilon *= agent.epsilon_decay\n",
    "    if episode%10 == 0: # Save the model every 10 episodes\n",
    "        print(\"Saving model\")\n",
    "        agent.model.save(f\"model_dqn_pt_to_pt_diff_start_diff_goal_{episode}.h5\")\n",
    "    agent.model.save(f\"model_dqn_pt_to_pt_diff_start_diff_goal.h5\") # Save the model after each episode\n",
    "\n"
   ]
  },
  {
   "cell_type": "code",
   "execution_count": null,
   "metadata": {},
   "outputs": [],
   "source": [
    "# Use the trained agent to control the agent in the environment\n",
    "state = env.reset()\n",
    "print(\"state: \", state)\n",
    "print(\"goal: \", env.goal)\n",
    "state = np.reshape(state, state_shape)\n",
    "done = False\n",
    "while not done:\n",
    "    action = agent.act(state, test=True)\n",
    "    next_state, _, done = env.step(action)\n",
    "    next_state = np.reshape(next_state, state_shape)\n",
    "    # Take action with the agent in the environment\n",
    "    state = next_state\n",
    "    print(state)"
   ]
  },
  {
   "cell_type": "code",
   "execution_count": null,
   "metadata": {},
   "outputs": [],
   "source": [
    "agent.model.save(\"model_dqn_pt_to_pt_diff_start_diff_goal.h5\")"
   ]
  },
  {
   "cell_type": "code",
   "execution_count": null,
   "metadata": {},
   "outputs": [],
   "source": [
    "import matplotlib.pyplot as plt\n",
    "plt.plot(total_reward)\n",
    "plt.xlabel(\"Episode\")\n",
    "plt.ylabel(\"Reward\")\n",
    "plt.show()"
   ]
  },
  {
   "cell_type": "code",
   "execution_count": null,
   "metadata": {},
   "outputs": [],
   "source": [
    "from guppy import hpy\n",
    "h = hpy()\n",
    "print(h.heap())"
   ]
  }
 ],
 "metadata": {
  "kernelspec": {
   "display_name": "Python 3",
   "language": "python",
   "name": "python3"
  },
  "language_info": {
   "codemirror_mode": {
    "name": "ipython",
    "version": 3
   },
   "file_extension": ".py",
   "mimetype": "text/x-python",
   "name": "python",
   "nbconvert_exporter": "python",
   "pygments_lexer": "ipython3",
   "version": "3.8.10"
  },
  "orig_nbformat": 4
 },
 "nbformat": 4,
 "nbformat_minor": 2
}
