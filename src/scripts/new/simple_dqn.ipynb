{
 "cells": [
  {
   "cell_type": "code",
   "execution_count": 1,
   "metadata": {},
   "outputs": [
    {
     "name": "stderr",
     "output_type": "stream",
     "text": [
      "2023-07-13 11:01:33.276205: I tensorflow/tsl/cuda/cudart_stub.cc:28] Could not find cuda drivers on your machine, GPU will not be used.\n",
      "2023-07-13 11:01:33.316409: I tensorflow/tsl/cuda/cudart_stub.cc:28] Could not find cuda drivers on your machine, GPU will not be used.\n",
      "2023-07-13 11:01:33.317549: I tensorflow/core/platform/cpu_feature_guard.cc:182] This TensorFlow binary is optimized to use available CPU instructions in performance-critical operations.\n",
      "To enable the following instructions: AVX2 FMA, in other operations, rebuild TensorFlow with the appropriate compiler flags.\n",
      "2023-07-13 11:01:33.952325: W tensorflow/compiler/tf2tensorrt/utils/py_utils.cc:38] TF-TRT Warning: Could not find TensorRT\n"
     ]
    }
   ],
   "source": [
    "import numpy as np\n",
    "import tensorflow as tf\n",
    "from tensorflow.keras.models import Sequential\n",
    "from tensorflow.keras.layers import Dense\n",
    "from tensorflow.keras.optimizers import Adam"
   ]
  },
  {
   "cell_type": "code",
   "execution_count": 2,
   "metadata": {},
   "outputs": [],
   "source": [
    "# Define the Q-Network model\n",
    "def create_q_network(input_shape, action_space):\n",
    "    model = Sequential()\n",
    "    model.add(Dense(32, activation='relu', input_shape=input_shape))\n",
    "    model.add(Dense(32, activation='relu'))\n",
    "    model.add(Dense(action_space, activation='linear'))\n",
    "    model.compile(loss='mse', optimizer=Adam(learning_rate=0.001))\n",
    "    return model"
   ]
  },
  {
   "cell_type": "code",
   "execution_count": 3,
   "metadata": {},
   "outputs": [],
   "source": [
    "class ENV():\n",
    "    def __init__(self):\n",
    "        self.env_col = 11\n",
    "        self.env_row = 11\n",
    "        self.state = (0, 0)\n",
    "        self.action_space = 4\n",
    "        self.reward = 0\n",
    "        self.done = False\n",
    "        self.goal = (3, 3)\n",
    "\n",
    "    def reset(self):\n",
    "        self.state = (0, 0)\n",
    "        self.reward = 0\n",
    "        self.done = False\n",
    "        return self.state\n",
    "    \n",
    "    def step(self, action):\n",
    "        if action == 0: # up\n",
    "            self.state = (self.state[0], self.state[1] + 1)\n",
    "        elif action == 1: # down\n",
    "            self.state = (self.state[0], self.state[1] - 1)\n",
    "        elif action == 2: # left\n",
    "            self.state = (self.state[0] - 1, self.state[1])\n",
    "        elif action == 3: # right\n",
    "            self.state = (self.state[0] + 1, self.state[1])\n",
    "        else:\n",
    "            raise ValueError(\"Invalid action\")\n",
    "        if self.state == self.goal:\n",
    "            self.reward = 100\n",
    "            self.done = True\n",
    "        elif self.state[0] < 0 or self.state[0] >= self.env_col or self.state[1] < 0 or self.state[1] >= self.env_row:\n",
    "            self.reward = -100\n",
    "            self.done = True\n",
    "        else:\n",
    "            self.reward = -1\n",
    "        return self.state, self.reward, self.done\n"
   ]
  },
  {
   "cell_type": "code",
   "execution_count": 4,
   "metadata": {},
   "outputs": [],
   "source": [
    "#Define the DQN agent\n",
    "class DQNAgent:\n",
    "    def __init__(self, state_shape, action_space):\n",
    "        self.state_shape = state_shape\n",
    "        self.action_space = action_space\n",
    "        self.memory = []\n",
    "        self.gamma = 0.95  # Discount factor\n",
    "        self.epsilon = 1.0  # Exploration rate\n",
    "        self.epsilon_decay = 0.995  # Decay rate for exploration rate\n",
    "        self.epsilon_min = 0.01  # Minimum exploration rate\n",
    "        self.model = create_q_network(state_shape, action_space)\n",
    "\n",
    "    def remember(self, state, action, reward, next_state, done):\n",
    "        self.memory.append((state, action, reward, next_state, done))\n",
    "\n",
    "    def act(self, state):\n",
    "        if np.random.rand() < self.epsilon:\n",
    "            return np.random.choice(self.action_space)\n",
    "        print(\"state in action: \",state)\n",
    "        q_values = self.model.predict(state)\n",
    "        return np.argmax(q_values[0])\n",
    "\n",
    "    def replay(self, batch_size):\n",
    "        if len(self.memory) < batch_size:\n",
    "            return\n",
    "        # Debug\n",
    "        # print(self.memory)\n",
    "        # batch = np.random.choice(self.memory, batch_size, replace=False)\n",
    "        batch_ch = np.random.choice(len(self.memory), batch_size, replace=False)\n",
    "        batch = [self.memory[i] for i in batch_ch]\n",
    "        for state, action, reward, next_state, done in batch:\n",
    "            next_state = np.reshape(state, self.state_shape)\n",
    "            target = reward\n",
    "            if not done:\n",
    "                target = reward + self.gamma * np.amax(self.model.predict(next_state)[0])\n",
    "            target_f = self.model.predict(state)\n",
    "            target_f[0][action] = target\n",
    "            self.model.fit(state, target_f, epochs=1, verbose=0)\n",
    "        if self.epsilon > self.epsilon_min:\n",
    "            self.epsilon *= self.epsilon_decay\n"
   ]
  },
  {
   "cell_type": "code",
   "execution_count": 5,
   "metadata": {},
   "outputs": [
    {
     "name": "stderr",
     "output_type": "stream",
     "text": [
      "2023-07-13 11:01:34.651669: E tensorflow/compiler/xla/stream_executor/cuda/cuda_driver.cc:266] failed call to cuInit: CUDA_ERROR_SYSTEM_DRIVER_MISMATCH: system has unsupported display driver / cuda driver combination\n",
      "2023-07-13 11:01:34.651724: I tensorflow/compiler/xla/stream_executor/cuda/cuda_diagnostics.cc:168] retrieving CUDA diagnostic information for host: pradeep-Victus-by-HP-Laptop-16-e0xxx\n",
      "2023-07-13 11:01:34.651730: I tensorflow/compiler/xla/stream_executor/cuda/cuda_diagnostics.cc:175] hostname: pradeep-Victus-by-HP-Laptop-16-e0xxx\n",
      "2023-07-13 11:01:34.651793: I tensorflow/compiler/xla/stream_executor/cuda/cuda_diagnostics.cc:199] libcuda reported version is: 535.54.3\n",
      "2023-07-13 11:01:34.651816: I tensorflow/compiler/xla/stream_executor/cuda/cuda_diagnostics.cc:203] kernel reported version is: NOT_FOUND: could not find kernel module information in driver version file contents: \"NVRM version: NVIDIA UNIX Open Kernel Module for x86_64  530.41.03  Release Build  (dvs-builder@U16-T02-35-3)  Thu Mar 16 19:33:35 UTC 2023\n",
      "GCC version:  gcc version 9.4.0 (Ubuntu 9.4.0-1ubuntu1~20.04.1) \n",
      "\"\n"
     ]
    }
   ],
   "source": [
    "# Initialize the environment and agent\n",
    "state_shape = (2,)  # Example state shape, adjust according to your actual state representation # Only x and y coordinates\n",
    "action_space = 4  # Example action space size, adjust according to your actual actions # 4 actions: up, down, left, right\n",
    "agent = DQNAgent(state_shape, action_space)\n",
    "env = ENV()"
   ]
  },
  {
   "cell_type": "code",
   "execution_count": 6,
   "metadata": {},
   "outputs": [
    {
     "name": "stdout",
     "output_type": "stream",
     "text": [
      "[(array([0, 0]), 1, -100, array([ 0, -1]), True), (array([0, 0]), 1, -100, array([ 0, -1]), True), (array([0, 0]), 2, -100, array([-1,  0]), True), (array([0, 0]), 1, -100, array([ 0, -1]), True), (array([0, 0]), 3, -1, array([1, 0]), False), (array([1, 0]), 2, -1, array([0, 0]), False), (array([0, 0]), 2, -100, array([-1,  0]), True), (array([0, 0]), 1, -100, array([ 0, -1]), True), (array([0, 0]), 1, -100, array([ 0, -1]), True), (array([0, 0]), 2, -100, array([-1,  0]), True), (array([0, 0]), 2, -100, array([-1,  0]), True), (array([0, 0]), 1, -100, array([ 0, -1]), True), (array([0, 0]), 2, -100, array([-1,  0]), True), (array([0, 0]), 2, -100, array([-1,  0]), True), (array([0, 0]), 0, -1, array([0, 1]), False), (array([0, 1]), 3, -1, array([1, 1]), False), (array([1, 1]), 1, -1, array([1, 0]), False), (array([1, 0]), 0, -1, array([1, 1]), False), (array([1, 1]), 1, -1, array([1, 0]), False), (array([1, 0]), 2, -1, array([0, 0]), False), (array([0, 0]), 2, -100, array([-1,  0]), True), (array([0, 0]), 0, -1, array([0, 1]), False), (array([0, 1]), 0, -1, array([0, 2]), False), (array([0, 2]), 1, -1, array([0, 1]), False), (array([0, 1]), 3, -1, array([1, 1]), False), (array([1, 1]), 0, -1, array([1, 2]), False), (array([1, 2]), 0, -1, array([1, 3]), False), (array([1, 3]), 2, -1, array([0, 3]), False), (array([0, 3]), 1, -1, array([0, 2]), False), (array([0, 2]), 1, -1, array([0, 1]), False), (array([0, 1]), 2, -100, array([-1,  1]), True), (array([0, 0]), 1, -100, array([ 0, -1]), True), (array([0, 0]), 3, -1, array([1, 0]), False)]\n"
     ]
    },
    {
     "ename": "ValueError",
     "evalue": "in user code:\n\n    File \"/home/pradeep/.local/lib/python3.8/site-packages/keras/engine/training.py\", line 2169, in predict_function  *\n        return step_function(self, iterator)\n    File \"/home/pradeep/.local/lib/python3.8/site-packages/keras/engine/training.py\", line 2155, in step_function  **\n        outputs = model.distribute_strategy.run(run_step, args=(data,))\n    File \"/home/pradeep/.local/lib/python3.8/site-packages/keras/engine/training.py\", line 2143, in run_step  **\n        outputs = model.predict_step(data)\n    File \"/home/pradeep/.local/lib/python3.8/site-packages/keras/engine/training.py\", line 2111, in predict_step\n        return self(x, training=False)\n    File \"/home/pradeep/.local/lib/python3.8/site-packages/keras/utils/traceback_utils.py\", line 70, in error_handler\n        raise e.with_traceback(filtered_tb) from None\n    File \"/home/pradeep/.local/lib/python3.8/site-packages/keras/engine/input_spec.py\", line 253, in assert_input_compatibility\n        raise ValueError(\n\n    ValueError: Exception encountered when calling layer 'sequential' (type Sequential).\n    \n    Input 0 of layer \"dense\" is incompatible with the layer: expected min_ndim=2, found ndim=1. Full shape received: (None,)\n    \n    Call arguments received by layer 'sequential' (type Sequential):\n      • inputs=tf.Tensor(shape=(None,), dtype=int64)\n      • training=False\n      • mask=None\n",
     "output_type": "error",
     "traceback": [
      "\u001b[0;31m---------------------------------------------------------------------------\u001b[0m",
      "\u001b[0;31mValueError\u001b[0m                                Traceback (most recent call last)",
      "Cell \u001b[0;32mIn[6], line 16\u001b[0m\n\u001b[1;32m     13\u001b[0m state \u001b[39m=\u001b[39m next_state\n\u001b[1;32m     15\u001b[0m \u001b[39mif\u001b[39;00m \u001b[39mlen\u001b[39m(agent\u001b[39m.\u001b[39mmemory) \u001b[39m>\u001b[39m batch_size:\n\u001b[0;32m---> 16\u001b[0m     agent\u001b[39m.\u001b[39;49mreplay(batch_size)\n",
      "Cell \u001b[0;32mIn[4], line 35\u001b[0m, in \u001b[0;36mDQNAgent.replay\u001b[0;34m(self, batch_size)\u001b[0m\n\u001b[1;32m     33\u001b[0m target \u001b[39m=\u001b[39m reward\n\u001b[1;32m     34\u001b[0m \u001b[39mif\u001b[39;00m \u001b[39mnot\u001b[39;00m done:\n\u001b[0;32m---> 35\u001b[0m     target \u001b[39m=\u001b[39m reward \u001b[39m+\u001b[39m \u001b[39mself\u001b[39m\u001b[39m.\u001b[39mgamma \u001b[39m*\u001b[39m np\u001b[39m.\u001b[39mamax(\u001b[39mself\u001b[39;49m\u001b[39m.\u001b[39;49mmodel\u001b[39m.\u001b[39;49mpredict(next_state)[\u001b[39m0\u001b[39m])\n\u001b[1;32m     36\u001b[0m target_f \u001b[39m=\u001b[39m \u001b[39mself\u001b[39m\u001b[39m.\u001b[39mmodel\u001b[39m.\u001b[39mpredict(state)\n\u001b[1;32m     37\u001b[0m target_f[\u001b[39m0\u001b[39m][action] \u001b[39m=\u001b[39m target\n",
      "File \u001b[0;32m~/.local/lib/python3.8/site-packages/keras/utils/traceback_utils.py:70\u001b[0m, in \u001b[0;36mfilter_traceback.<locals>.error_handler\u001b[0;34m(*args, **kwargs)\u001b[0m\n\u001b[1;32m     67\u001b[0m     filtered_tb \u001b[39m=\u001b[39m _process_traceback_frames(e\u001b[39m.\u001b[39m__traceback__)\n\u001b[1;32m     68\u001b[0m     \u001b[39m# To get the full stack trace, call:\u001b[39;00m\n\u001b[1;32m     69\u001b[0m     \u001b[39m# `tf.debugging.disable_traceback_filtering()`\u001b[39;00m\n\u001b[0;32m---> 70\u001b[0m     \u001b[39mraise\u001b[39;00m e\u001b[39m.\u001b[39mwith_traceback(filtered_tb) \u001b[39mfrom\u001b[39;00m \u001b[39mNone\u001b[39;00m\n\u001b[1;32m     71\u001b[0m \u001b[39mfinally\u001b[39;00m:\n\u001b[1;32m     72\u001b[0m     \u001b[39mdel\u001b[39;00m filtered_tb\n",
      "File \u001b[0;32m/tmp/__autograph_generated_file_mx9poku.py:15\u001b[0m, in \u001b[0;36mouter_factory.<locals>.inner_factory.<locals>.tf__predict_function\u001b[0;34m(iterator)\u001b[0m\n\u001b[1;32m     13\u001b[0m \u001b[39mtry\u001b[39;00m:\n\u001b[1;32m     14\u001b[0m     do_return \u001b[39m=\u001b[39m \u001b[39mTrue\u001b[39;00m\n\u001b[0;32m---> 15\u001b[0m     retval_ \u001b[39m=\u001b[39m ag__\u001b[39m.\u001b[39mconverted_call(ag__\u001b[39m.\u001b[39mld(step_function), (ag__\u001b[39m.\u001b[39mld(\u001b[39mself\u001b[39m), ag__\u001b[39m.\u001b[39mld(iterator)), \u001b[39mNone\u001b[39;00m, fscope)\n\u001b[1;32m     16\u001b[0m \u001b[39mexcept\u001b[39;00m:\n\u001b[1;32m     17\u001b[0m     do_return \u001b[39m=\u001b[39m \u001b[39mFalse\u001b[39;00m\n",
      "\u001b[0;31mValueError\u001b[0m: in user code:\n\n    File \"/home/pradeep/.local/lib/python3.8/site-packages/keras/engine/training.py\", line 2169, in predict_function  *\n        return step_function(self, iterator)\n    File \"/home/pradeep/.local/lib/python3.8/site-packages/keras/engine/training.py\", line 2155, in step_function  **\n        outputs = model.distribute_strategy.run(run_step, args=(data,))\n    File \"/home/pradeep/.local/lib/python3.8/site-packages/keras/engine/training.py\", line 2143, in run_step  **\n        outputs = model.predict_step(data)\n    File \"/home/pradeep/.local/lib/python3.8/site-packages/keras/engine/training.py\", line 2111, in predict_step\n        return self(x, training=False)\n    File \"/home/pradeep/.local/lib/python3.8/site-packages/keras/utils/traceback_utils.py\", line 70, in error_handler\n        raise e.with_traceback(filtered_tb) from None\n    File \"/home/pradeep/.local/lib/python3.8/site-packages/keras/engine/input_spec.py\", line 253, in assert_input_compatibility\n        raise ValueError(\n\n    ValueError: Exception encountered when calling layer 'sequential' (type Sequential).\n    \n    Input 0 of layer \"dense\" is incompatible with the layer: expected min_ndim=2, found ndim=1. Full shape received: (None,)\n    \n    Call arguments received by layer 'sequential' (type Sequential):\n      • inputs=tf.Tensor(shape=(None,), dtype=int64)\n      • training=False\n      • mask=None\n"
     ]
    }
   ],
   "source": [
    "#Training loop\n",
    "num_episodes = 1000  # Set the number of training episodes\n",
    "batch_size = 32  # Set the batch size for replay\n",
    "for episode in range(num_episodes):\n",
    "    state = env.reset()\n",
    "    state = np.reshape(state, state_shape)\n",
    "    done = False\n",
    "    while not done:\n",
    "        action = agent.act(state)\n",
    "        next_state, reward, done = env.step(action)\n",
    "        next_state = np.reshape(next_state, state_shape)\n",
    "        agent.remember(state, action, reward, next_state, done)\n",
    "        state = next_state\n",
    "\n",
    "        if len(agent.memory) > batch_size:\n",
    "            agent.replay(batch_size)"
   ]
  },
  {
   "cell_type": "code",
   "execution_count": null,
   "metadata": {},
   "outputs": [],
   "source": [
    "# Use the trained agent to control the agent in the environment\n",
    "state = env.reset()\n",
    "state = np.reshape(state, state_shape)\n",
    "done = False\n",
    "while not done:\n",
    "    action = agent.act(state)\n",
    "    next_state, _, done = env.step(action)\n",
    "    next_state = np.reshape(next_state, state_shape)\n",
    "    # Take action with the agent in the environment\n",
    "    state = next_state\n",
    "    print(state)"
   ]
  },
  {
   "cell_type": "code",
   "execution_count": null,
   "metadata": {},
   "outputs": [],
   "source": []
  }
 ],
 "metadata": {
  "kernelspec": {
   "display_name": "Python 3",
   "language": "python",
   "name": "python3"
  },
  "language_info": {
   "codemirror_mode": {
    "name": "ipython",
    "version": 3
   },
   "file_extension": ".py",
   "mimetype": "text/x-python",
   "name": "python",
   "nbconvert_exporter": "python",
   "pygments_lexer": "ipython3",
   "version": "3.8.10"
  },
  "orig_nbformat": 4
 },
 "nbformat": 4,
 "nbformat_minor": 2
}
