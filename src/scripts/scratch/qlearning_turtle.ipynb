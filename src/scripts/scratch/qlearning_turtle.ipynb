{
 "cells": [
  {
   "cell_type": "code",
   "execution_count": 1,
   "metadata": {},
   "outputs": [],
   "source": [
    "import math\n",
    "import rospy\n",
    "import numpy as np\n",
    "\n",
    "from turtlesim.srv import TeleportAbsolute\n",
    "from std_srvs.srv import Empty\n",
    "from turtlesim.msg import Pose\n",
    "from geometry_msgs.msg import Twist\n",
    "from turtlesim.srv import Spawn"
   ]
  },
  {
   "cell_type": "code",
   "execution_count": 2,
   "metadata": {},
   "outputs": [],
   "source": [
    "env_row = 12\n",
    "env_col = 12\n",
    "\n",
    "# define actions\n",
    "# numeric action codes: 0 = up, 1 = right, 2 = down, 3 = left\n",
    "actions = ['up', 'right', 'down', 'left']\n",
    "\n",
    "q_values = np.zeros((env_row, env_col, len(actions)))\n",
    "\n",
    "# initialise rewards\n",
    "rewards = np.full((env_row, env_col), -100.)"
   ]
  },
  {
   "cell_type": "code",
   "execution_count": 3,
   "metadata": {},
   "outputs": [],
   "source": [
    "def get_euclidian_dist(x1,y1,x2,y2):\n",
    "    return np.sqrt((x1-x2)**2 + (y1-y2)**2)"
   ]
  },
  {
   "cell_type": "code",
   "execution_count": 4,
   "metadata": {},
   "outputs": [],
   "source": [
    "goal_x = 10  # int(input(\"Please enter goal x coordinate: \"))\n",
    "goal_y = 9  # int(input(\"Please enter goal y coordinate: \"))\n",
    "\n",
    "# assign reward value to goal\n",
    "for i in range(len(q_values)):\n",
    "    for j in range(len(q_values[0])):\n",
    "        rewards[i][j] = - get_euclidian_dist(i,j,goal_x,goal_y)"
   ]
  },
  {
   "cell_type": "code",
   "execution_count": 5,
   "metadata": {},
   "outputs": [],
   "source": [
    "# No terminal state"
   ]
  },
  {
   "cell_type": "code",
   "execution_count": 6,
   "metadata": {},
   "outputs": [],
   "source": [
    "def is_final_state(row, col):\n",
    "    if row == goal_x and col == goal_y:\n",
    "        return True\n",
    "    else:\n",
    "        return False"
   ]
  },
  {
   "cell_type": "code",
   "execution_count": 7,
   "metadata": {},
   "outputs": [],
   "source": [
    "#define a function that will choose a random, non-terminal starting location\n",
    "def get_starting_location():\n",
    "  #get a random row and column index\n",
    "  current_row_index = np.random.randint(env_row)\n",
    "  current_column_index = np.random.randint(env_col)\n",
    "\n",
    "  return current_row_index, current_column_index"
   ]
  },
  {
   "cell_type": "code",
   "execution_count": 8,
   "metadata": {},
   "outputs": [],
   "source": [
    "#define an epsilon greedy algorithm that will choose which action to take next (i.e., where to move next)\n",
    "def get_next_action(current_row_index, current_column_index, epsilon):\n",
    "  #if a randomly chosen value between 0 and 1 is less than epsilon, \n",
    "  #then choose the most promising value from the Q-table for this state.\n",
    "  if np.random.random() < epsilon:\n",
    "    return np.argmax(q_values[current_row_index, current_column_index])\n",
    "  else: #choose a random action\n",
    "    return np.random.randint(4)"
   ]
  },
  {
   "cell_type": "code",
   "execution_count": 9,
   "metadata": {},
   "outputs": [],
   "source": [
    "#define a function that will get the next location based on the chosen action\n",
    "def get_next_location(current_row_index, current_column_index, action_index):\n",
    "  new_row_index = current_row_index\n",
    "  new_column_index = current_column_index\n",
    "  if actions[action_index] == 'up' and current_row_index > 0:\n",
    "    new_row_index -= 1\n",
    "  elif actions[action_index] == 'right' and current_column_index < env_col - 1:\n",
    "    new_column_index += 1\n",
    "  elif actions[action_index] == 'down' and current_row_index < env_row - 1:\n",
    "    new_row_index += 1\n",
    "  elif actions[action_index] == 'left' and current_column_index > 0:\n",
    "    new_column_index -= 1\n",
    "  return new_row_index, new_column_index\n"
   ]
  },
  {
   "cell_type": "code",
   "execution_count": 10,
   "metadata": {},
   "outputs": [],
   "source": [
    "x1 = 0\n",
    "y1 = 0\n",
    "z1 = 0\n",
    "theta1 = 0\n",
    "\n",
    "       \n",
    "\n",
    "def pose_callback(pose_msg:Pose):\n",
    "    global x1,y1,z1,theta1\n",
    "    x1 = pose_msg.x \n",
    "    y1 = pose_msg.y \n",
    "    theta1 = pose_msg.theta \n",
    "\n",
    "\n",
    "def Goto_goal(x_goal, y_goal):\n",
    "    global x1,y1,theta1\n",
    "    msg = Twist()\n",
    "\n",
    "    while(True):\n",
    "        Beta = 0.5\n",
    "        distance = abs(math.sqrt(((x_goal-x1)**2)+((y_goal-y1)**2)))\n",
    "\n",
    "        speed = distance*Beta\n",
    "\n",
    "        Phi = 4.0\n",
    "        ang_dist = math.atan2((y_goal-y1),(x_goal-x1))\n",
    "\n",
    "        ang_speed = Phi*(ang_dist-theta1)\n",
    "\n",
    "        msg.linear.x = speed\n",
    "        msg.angular.z = ang_speed\n",
    "\n",
    "        pub.publish(msg)\n",
    "\n",
    "        if (distance<0.1):\n",
    "            break"
   ]
  },
  {
   "cell_type": "code",
   "execution_count": 11,
   "metadata": {},
   "outputs": [],
   "source": [
    "#define training parameters\n",
    "epsilon = 0.9 #the percentage of time when we should take the best action (instead of a random action)\n",
    "discount_factor = 0.9 #discount factor for future rewards\n",
    "learning_rate = 0.9 #the rate at which the agent should learn"
   ]
  },
  {
   "cell_type": "code",
   "execution_count": 12,
   "metadata": {},
   "outputs": [
    {
     "name": "stdout",
     "output_type": "stream",
     "text": [
      "Training complete!\n"
     ]
    }
   ],
   "source": [
    "#run through 1000 training episodes\n",
    "for episode in range(1000):\n",
    "  #get the starting location for this episode\n",
    "  row_index, column_index = get_starting_location()\n",
    "  #continue taking actions (i.e., moving) until we reach a terminal state\n",
    "  #(i.e., until we reach the item packaging area or crash into an item storage location)\n",
    "  while not is_final_state(row_index, column_index):\n",
    "    #choose which action to take (i.e., where to move next)\n",
    "    action_index = get_next_action(row_index, column_index, epsilon)\n",
    "    #perform the chosen action, and transition to the next state (i.e., move to the next location)\n",
    "    old_row_index, old_column_index = row_index, column_index #store the old row and column indexes\n",
    "    row_index, column_index = get_next_location(row_index, column_index, action_index)\n",
    "    #receive the reward for moving to the new state, and calculate the temporal difference\n",
    "    reward = rewards[row_index, column_index]\n",
    "    old_q_value = q_values[old_row_index, old_column_index, action_index]\n",
    "    temporal_difference = reward + (discount_factor * np.max(q_values[row_index, column_index])) - old_q_value\n",
    "    #update the Q-value for the previous state and action pair\n",
    "    new_q_value = old_q_value + (learning_rate * temporal_difference)\n",
    "    q_values[old_row_index, old_column_index, action_index] = new_q_value\n",
    "print('Training complete!')"
   ]
  },
  {
   "cell_type": "code",
   "execution_count": 13,
   "metadata": {},
   "outputs": [],
   "source": [
    "#Define a function that will get the shortest path between any location within the warehouse that \n",
    "#the robot is allowed to travel and the item packaging location.\n",
    "def get_shortest_path(start_row_index, start_column_index, turtle_sim=False):\n",
    "  #return immediately if this is an invalid starting location\n",
    "  if is_final_state(start_row_index, start_column_index):\n",
    "    return []\n",
    "  else: #if this is a 'legal' starting location\n",
    "    current_row_index, current_column_index = start_row_index, start_column_index\n",
    "    shortest_path = []\n",
    "    shortest_path.append([current_row_index, current_column_index])\n",
    "    #continue moving along the path until we reach the goal (i.e., the item packaging location)\n",
    "    while not is_final_state(current_row_index, current_column_index):\n",
    "      #get the best action to take\n",
    "      action_index = get_next_action(current_row_index, current_column_index, 1.)\n",
    "      #move to the next location on the path, and add the new location to the list\n",
    "      current_row_index, current_column_index = get_next_location(current_row_index, current_column_index, action_index)\n",
    "      shortest_path.append([current_row_index, current_column_index])\n",
    "      if turtle_sim:\n",
    "        print(\"Moving to location: \", current_row_index, current_column_index)\n",
    "        Goto_goal(current_row_index, current_column_index)\n",
    "    \n",
    "    return shortest_path"
   ]
  },
  {
   "cell_type": "code",
   "execution_count": 14,
   "metadata": {},
   "outputs": [],
   "source": [
    "# #display a few shortest paths\n",
    "# print(get_shortest_path(3, 9)) #starting at row 3, column 9\n",
    "# print(get_shortest_path(5, 0)) #starting at row 5, column 0\n",
    "# print(get_shortest_path(9, 5)) #starting at row 9, column 5"
   ]
  },
  {
   "cell_type": "code",
   "execution_count": 15,
   "metadata": {},
   "outputs": [],
   "source": [
    "# Teleport turtlesim to the starting location\n",
    "def teleport_turtle(x, y):\n",
    "    rospy.wait_for_service('/turtle1/teleport_absolute')\n",
    "    try:\n",
    "        teleport = rospy.ServiceProxy('/turtle1/teleport_absolute', TeleportAbsolute)\n",
    "        teleport(x, y, 0)\n",
    "    except rospy.ServiceException as e:\n",
    "        print(\"Service call failed: %s\"%e)"
   ]
  },
  {
   "cell_type": "code",
   "execution_count": 16,
   "metadata": {},
   "outputs": [],
   "source": [
    "def clear_path():\n",
    "\n",
    "    # Stop the turtle's movement\n",
    "    pub = rospy.Publisher('/turtle1/cmd_vel', Twist, queue_size=1)\n",
    "    twist = Twist()\n",
    "    pub.publish(twist)\n",
    "\n",
    "    # Clear the path\n",
    "    clear_path_service = rospy.ServiceProxy('/clear', Empty)\n",
    "    clear_path_service()"
   ]
  },
  {
   "cell_type": "code",
   "execution_count": 17,
   "metadata": {},
   "outputs": [],
   "source": [
    "def spawn_target(x, y):\n",
    "    # Spawn the target\n",
    "    spawn_target_service = rospy.ServiceProxy('/spawn', Spawn)\n",
    "    spawn_target_service(x, y, 0, 'target')"
   ]
  },
  {
   "cell_type": "code",
   "execution_count": 21,
   "metadata": {},
   "outputs": [
    {
     "name": "stdout",
     "output_type": "stream",
     "text": [
      "Service call failed: service [/spawn] responded with an error: b''\n"
     ]
    }
   ],
   "source": [
    "start_pos_x = 1\n",
    "start_pos_y = 2\n",
    "rospy.init_node(\"Shortest_path_turtle\")\n",
    "pub = rospy.Publisher(\"/turtle1/cmd_vel\",Twist, queue_size =10)\n",
    "sub = rospy.Subscriber(\"/turtle1/pose\",Pose, callback = pose_callback)\n",
    "teleport_turtle(start_pos_x, start_pos_y)\n",
    "clear_path()\n",
    "try:\n",
    "    spawn_target(goal_x, goal_y)\n",
    "except rospy.ServiceException as e:\n",
    "    print(\"Service call failed: %s\"%e)"
   ]
  },
  {
   "cell_type": "code",
   "execution_count": 22,
   "metadata": {},
   "outputs": [
    {
     "name": "stdout",
     "output_type": "stream",
     "text": [
      "Moving to location:  2 2\n",
      "Moving to location:  3 2\n",
      "Moving to location:  3 3\n",
      "Moving to location:  4 3\n",
      "Moving to location:  4 4\n",
      "Moving to location:  5 4\n",
      "Moving to location:  5 5\n",
      "Moving to location:  6 5\n",
      "Moving to location:  6 6\n",
      "Moving to location:  7 6\n",
      "Moving to location:  7 7\n",
      "Moving to location:  8 7\n",
      "Moving to location:  8 8\n",
      "Moving to location:  9 8\n",
      "Moving to location:  9 9\n",
      "Moving to location:  10 9\n"
     ]
    },
    {
     "data": {
      "text/plain": [
       "[[1, 2],\n",
       " [2, 2],\n",
       " [3, 2],\n",
       " [3, 3],\n",
       " [4, 3],\n",
       " [4, 4],\n",
       " [5, 4],\n",
       " [5, 5],\n",
       " [6, 5],\n",
       " [6, 6],\n",
       " [7, 6],\n",
       " [7, 7],\n",
       " [8, 7],\n",
       " [8, 8],\n",
       " [9, 8],\n",
       " [9, 9],\n",
       " [10, 9]]"
      ]
     },
     "execution_count": 22,
     "metadata": {},
     "output_type": "execute_result"
    }
   ],
   "source": [
    "get_shortest_path(start_pos_x, start_pos_y, turtle_sim=True)"
   ]
  },
  {
   "attachments": {
    "image-2.png": {
     "image/png": "[encoded data removed]"
    },
    "image.png": {
     "image/png": "[encoded data removed]"
    }
   },
   "cell_type": "markdown",
   "metadata": {},
   "source": [
    "![image.png](attachment:image.png)\n",
    "\n",
    "![image-2.png](attachment:image-2.png)"
   ]
  },
  {
   "attachments": {},
   "cell_type": "markdown",
   "metadata": {},
   "source": []
  }
 ],
 "metadata": {
  "kernelspec": {
   "display_name": "Python 3",
   "language": "python",
   "name": "python3"
  },
  "language_info": {
   "codemirror_mode": {
    "name": "ipython",
    "version": 3
   },
   "file_extension": ".py",
   "mimetype": "text/x-python",
   "name": "python",
   "nbconvert_exporter": "python",
   "pygments_lexer": "ipython3",
   "version": "3.8.10"
  },
  "orig_nbformat": 4
 },
 "nbformat": 4,
 "nbformat_minor": 2
}
