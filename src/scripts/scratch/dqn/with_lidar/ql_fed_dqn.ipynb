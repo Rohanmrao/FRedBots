{
 "cells": [
  {
   "cell_type": "code",
   "execution_count": 1,
   "metadata": {},
   "outputs": [
    {
     "name": "stderr",
     "output_type": "stream",
     "text": [
      "2023-08-16 19:49:06.031690: I tensorflow/core/platform/cpu_feature_guard.cc:182] This TensorFlow binary is optimized to use available CPU instructions in performance-critical operations.\n",
      "To enable the following instructions: AVX2 FMA, in other operations, rebuild TensorFlow with the appropriate compiler flags.\n",
      "2023-08-16 19:49:06.617038: W tensorflow/compiler/tf2tensorrt/utils/py_utils.cc:38] TF-TRT Warning: Could not find TensorRT\n"
     ]
    }
   ],
   "source": [
    "import pickle\n",
    "\n",
    "import numpy as np\n",
    "import tensorflow as tf\n",
    "\n",
    "from tensorflow.keras.layers import Dense, Input\n",
    "from tensorflow.keras.models import Sequential\n",
    "from tensorflow.keras.optimizers import Adam"
   ]
  },
  {
   "cell_type": "code",
   "execution_count": 2,
   "metadata": {},
   "outputs": [],
   "source": [
    "env_col = 21\n",
    "env_row = 21\n",
    "\n",
    "epsilon = 0.8\n",
    "discount_factor = 0.9\n",
    "learning_rate = 0.9\n",
    "\n",
    "lidar_sample_size = int(360/15) # Should always be an integer\n",
    "\n",
    "actions = ['up', 'down', 'left', 'right']\n",
    "\n",
    "obstacles = [[3, 0], [3, 1], [3, 2], [3, 3], [3, 4], [3, 5], [3, 6], [3, 7], [3, 8], [3, 9],\n",
    "             [8, 9], [8, 10], [8, 11], [8, 12], [8, 13], [8, 14], [8, 15], [8, 16], [8, 17], [8, 18], [8, 19], [8, 20],\n",
    "             [14, 0], [14, 1], [14, 2], [14, 3], [14, 4], [14, 5], [14, 6], [14, 7], [14, 8], [14, 9]]"
   ]
  },
  {
   "cell_type": "code",
   "execution_count": 3,
   "metadata": {},
   "outputs": [],
   "source": [
    "rewards = np.full((env_row, env_col), -1)\n",
    "for x,y in obstacles:\n",
    "    rewards[x,y] = -100"
   ]
  },
  {
   "cell_type": "code",
   "execution_count": 4,
   "metadata": {},
   "outputs": [],
   "source": [
    "# Create a neural network model\n",
    "def create_model(input_shape, num_actions):\n",
    "    model = Sequential([\n",
    "        Input(shape=input_shape),\n",
    "        Dense(50, activation='relu'),\n",
    "        Dense(150, activation='relu'),\n",
    "        Dense(200, activation='relu'),\n",
    "        Dense(100, activation='relu'),\n",
    "        Dense(num_actions, activation='linear')\n",
    "    ])\n",
    "    model.compile(loss='mse', optimizer=Adam(learning_rate=0.001))\n",
    "    return model"
   ]
  },
  {
   "cell_type": "code",
   "execution_count": 5,
   "metadata": {},
   "outputs": [],
   "source": [
    "def get_starting_location():\n",
    "    # get a random row and column index\n",
    "    current_row_index = np.random.randint(env_row)\n",
    "    current_column_index = np.random.randint(env_col)\n",
    "    # if the random location is an obstacle, keep getting a new one\n",
    "    while [current_row_index, current_column_index] in obstacles:\n",
    "        current_row_index = np.random.randint(env_row)\n",
    "        current_column_index = np.random.randint(env_col)\n",
    "    return current_row_index, current_column_index"
   ]
  },
  {
   "cell_type": "code",
   "execution_count": 6,
   "metadata": {},
   "outputs": [],
   "source": [
    "def is_final_state(row, col, goal_x, goal_y):\n",
    "    if row == goal_x and col == goal_y:\n",
    "        return True\n",
    "    else:\n",
    "        return False"
   ]
  },
  {
   "cell_type": "code",
   "execution_count": 7,
   "metadata": {},
   "outputs": [],
   "source": [
    "def get_next_action(q_values, current_row_index, current_column_index, epsilon):\n",
    "    # if a randomly chosen value between 0 and 1 is less than epsilon,\n",
    "    # then choose the most promising value from the Q-table for this state.\n",
    "    if np.random.random() < epsilon:\n",
    "        return np.argmax(q_values[current_row_index, current_column_index])\n",
    "    else:  # choose a random action\n",
    "        return np.random.randint(4)"
   ]
  },
  {
   "cell_type": "code",
   "execution_count": 8,
   "metadata": {},
   "outputs": [],
   "source": [
    "def get_next_location(current_row_index, current_column_index, action_index):\n",
    "    new_row_index = current_row_index\n",
    "    new_column_index = current_column_index\n",
    "    if actions[action_index] == 'up' and current_row_index < env_row - 1:\n",
    "        new_row_index += 1\n",
    "    elif actions[action_index] == 'down' and current_row_index > 0:\n",
    "        new_row_index -= 1\n",
    "    elif actions[action_index] == 'right' and current_column_index < env_col - 1:\n",
    "        new_column_index += 1\n",
    "    elif actions[action_index] == 'left' and current_column_index > 0:\n",
    "        new_column_index -= 1\n",
    "\n",
    "    return new_row_index, new_column_index"
   ]
  },
  {
   "cell_type": "code",
   "execution_count": 9,
   "metadata": {},
   "outputs": [],
   "source": [
    "def generate_q_table(target):\n",
    "\n",
    "    rewards[target[0], target[1]] = 100\n",
    "\n",
    "    q_values = np.zeros((env_row, env_col, len(actions)))\n",
    "    \n",
    "    for episode in range(1000):\n",
    "        # get the starting location for this episode\n",
    "        row_index, column_index = get_starting_location()\n",
    "        # continue taking actions (i.e., moving) until we reach a terminal state\n",
    "        # (i.e., until we reach the item packaging area or crash into an item storage location)\n",
    "        while not is_final_state(row_index, column_index, target[0], target[1]):\n",
    "            # choose which action to take (i.e., where to move next)\n",
    "            action_index = get_next_action(q_values, row_index, column_index, epsilon)\n",
    "            # perform the chosen action, and transition to the next state (i.e., move to the next location)\n",
    "            # store the old row and column indexes\n",
    "            old_row_index, old_column_index = row_index, column_index\n",
    "            row_index, column_index = get_next_location(row_index, column_index, action_index)\n",
    "            # receive the reward for moving to the new state, and calculate the temporal difference\n",
    "            reward = rewards[row_index, column_index]\n",
    "            old_q_value = q_values[old_row_index,\n",
    "                                   old_column_index, action_index]\n",
    "            temporal_difference = reward + (discount_factor *np.max(q_values[row_index, column_index])) - old_q_value\n",
    "            # update the Q-value for the previous state and action pair\n",
    "            new_q_value = old_q_value + (learning_rate * temporal_difference)\n",
    "            q_values[old_row_index, old_column_index, action_index] = new_q_value\n",
    "\n",
    "    rewards[target[0], target[1]] = -1\n",
    "\n",
    "    return q_values"
   ]
  },
  {
   "cell_type": "code",
   "execution_count": 10,
   "metadata": {},
   "outputs": [],
   "source": [
    "try:\n",
    "    q_tables = pickle.load(open(\"q_tables.bin\", \"rb\"))\n",
    "except: # Takes about 1 minute to generate q_tables for 21x21 grid\n",
    "    print(\"No q_tables.bin found, initializing new q_tables\")\n",
    "    q_tables = {}\n",
    "    for i in range(env_row):\n",
    "        for j in range(env_col):\n",
    "            if [i, j] not in obstacles:\n",
    "                q_tables[(i, j)] = generate_q_table([i, j])\n",
    "\n",
    "    filee = open(\"q_tables.bin\", \"wb\")\n",
    "    pickle.dump(q_tables, filee)\n",
    "    filee.close()\n",
    "    print(\"Q tables initialized and saved to q_tables.bin\")"
   ]
  },
  {
   "cell_type": "code",
   "execution_count": 11,
   "metadata": {},
   "outputs": [],
   "source": [
    "try:\n",
    "    lidar_data = pickle.load(open(\"lidar_data_21x21.bin\", \"rb\"))\n",
    "except:\n",
    "    print(\"lidar_data_21x21.bin not found\")"
   ]
  },
  {
   "cell_type": "code",
   "execution_count": 12,
   "metadata": {},
   "outputs": [
    {
     "name": "stdout",
     "output_type": "stream",
     "text": [
      "No model found, creating new one\n"
     ]
    },
    {
     "name": "stderr",
     "output_type": "stream",
     "text": [
      "2023-08-16 19:49:13.044724: E tensorflow/compiler/xla/stream_executor/cuda/cuda_driver.cc:266] failed call to cuInit: CUDA_ERROR_UNKNOWN: unknown error\n",
      "2023-08-16 19:49:13.044764: I tensorflow/compiler/xla/stream_executor/cuda/cuda_diagnostics.cc:168] retrieving CUDA diagnostic information for host: pradeep-Victus-by-HP-Laptop-16-e0xxx\n",
      "2023-08-16 19:49:13.044770: I tensorflow/compiler/xla/stream_executor/cuda/cuda_diagnostics.cc:175] hostname: pradeep-Victus-by-HP-Laptop-16-e0xxx\n",
      "2023-08-16 19:49:13.044879: I tensorflow/compiler/xla/stream_executor/cuda/cuda_diagnostics.cc:199] libcuda reported version is: 535.54.3\n",
      "2023-08-16 19:49:13.044902: I tensorflow/compiler/xla/stream_executor/cuda/cuda_diagnostics.cc:203] kernel reported version is: NOT_FOUND: could not find kernel module information in driver version file contents: \"NVRM version: NVIDIA UNIX Open Kernel Module for x86_64  535.54.03  Release Build  (dvs-builder@U16-I2-C03-15-1)  Tue Jun  6 22:31:30 UTC 2023\n",
      "GCC version:  gcc version 9.4.0 (Ubuntu 9.4.0-1ubuntu1~20.04.1) \n",
      "\"\n"
     ]
    }
   ],
   "source": [
    "try:\n",
    "    model = tf.keras.models.load_model(f'models/ql_fed_dqn_with_lidar_{lidar_sample_size}.h5')\n",
    "    print('Loaded model from disk')\n",
    "except:\n",
    "    print('No model found, creating new one')\n",
    "    model = create_model((int(4 + lidar_sample_size),), len(actions))"
   ]
  },
  {
   "cell_type": "code",
   "execution_count": 13,
   "metadata": {},
   "outputs": [],
   "source": [
    "def generate_memory(batch_size):\n",
    "    memory = []\n",
    "    for i in range(batch_size):\n",
    "        state = get_starting_location()\n",
    "        target = get_starting_location()\n",
    "        while target == state:\n",
    "            target = get_starting_location()\n",
    "        \n",
    "        q_values = q_tables[target][state[0]][state[1]]\n",
    "\n",
    "        lidar_step = int(360//lidar_sample_size)\n",
    "        lidar_values = lidar_data[state][::lidar_step]\n",
    "\n",
    "        new_lidar_values = list(lidar_values)\n",
    "\n",
    "        for i in range(len(lidar_values)):\n",
    "            if lidar_values[i] == float('inf'):\n",
    "                new_lidar_values[i] = 15\n",
    "\n",
    "        # print(max(new_lidar_values))\n",
    "        lidar_values = tuple(new_lidar_values)\n",
    "\n",
    "        memory.append((state, target, q_values, lidar_values))\n",
    "    return memory"
   ]
  },
  {
   "cell_type": "code",
   "execution_count": 14,
   "metadata": {},
   "outputs": [],
   "source": [
    "def train(batch_size, epoch=1):\n",
    "    \n",
    "    # Generate a random batch of experiences\n",
    "    mem = generate_memory(batch_size)\n",
    "    state = np.array([i[0] for i in mem])\n",
    "    target = np.array([i[1] for i in mem])\n",
    "    q_values = np.array([i[2] for i in mem])\n",
    "    lidar_values = np.array([i[3] for i in mem])\n",
    "\n",
    "    # Modify the input to contain both the state and the target\n",
    "    inputt = np.concatenate((state, target, lidar_values), axis=1)\n",
    "\n",
    "    # Train the model using the experiences\n",
    "    model.fit(inputt, q_values, epochs=epoch, verbose=0)"
   ]
  },
  {
   "cell_type": "code",
   "execution_count": 15,
   "metadata": {},
   "outputs": [],
   "source": [
    "def test(test_size):\n",
    "\n",
    "    # Generate a random batch of experiences\n",
    "    mem = generate_memory(test_size)\n",
    "    state = np.array([i[0] for i in mem])\n",
    "    target = np.array([i[1] for i in mem])\n",
    "    q_values = np.array([i[2] for i in mem])\n",
    "    lidar_values = np.array([i[3] for i in mem])\n",
    "\n",
    "    # Modify the input to contain both the state and the target\n",
    "    inputt = np.concatenate((state, target, lidar_values), axis=1)\n",
    "\n",
    "    correct_action = 0\n",
    "\n",
    "    for i in range(test_size):\n",
    "        # Get the predicted q values\n",
    "        q_values_pred = model.predict(inputt[i].reshape(1, 4+lidar_sample_size), verbose=0)\n",
    "\n",
    "        # Check if the predicted q values are equal to the actual q values\n",
    "        # print(\"Actual q values: \", q_values[i])\n",
    "        # print(\"Predicted q values: \", q_values_pred)\n",
    "        # print()\n",
    "        if np.argmax(q_values_pred) == np.argmax(q_values[i]):\n",
    "            correct_action += 1\n",
    "    \n",
    "    # Return the accuracy\n",
    "    return correct_action / test_size"
   ]
  },
  {
   "cell_type": "code",
   "execution_count": 16,
   "metadata": {},
   "outputs": [
    {
     "name": "stdout",
     "output_type": "stream",
     "text": [
      "0/500: 0.55\n",
      "20/500: 0.54\n",
      "40/500: 0.52\n",
      "60/500: 0.56\n",
      "80/500: 0.53\n",
      "100/500: 0.59\n",
      "120/500: 0.49\n",
      "140/500: 0.5\n",
      "160/500: 0.46\n",
      "180/500: 0.52\n",
      "200/500: 0.52\n",
      "220/500: 0.51\n",
      "240/500: 0.5\n",
      "260/500: 0.5\n",
      "280/500: 0.54\n",
      "300/500: 0.57\n",
      "320/500: 0.53\n",
      "340/500: 0.58\n",
      "360/500: 0.65\n",
      "380/500: 0.58\n",
      "400/500: 0.58\n",
      "420/500: 0.58\n",
      "440/500: 0.56\n",
      "460/500: 0.65\n",
      "480/500: 0.57\n"
     ]
    }
   ],
   "source": [
    "max_episodes = 500\n",
    "best_score = 0\n",
    "for i in range(max_episodes):\n",
    "    train(10000, 30)\n",
    "    if i % 20 == 0:\n",
    "        res = test(100)\n",
    "        if res > best_score:\n",
    "            best_score = res\n",
    "            model.save(f'models/ql_fed_dqn_with_lidar_{lidar_sample_size}_best.h5')\n",
    "        print(f\"{i}/{max_episodes}: {res}\")\n",
    "        model.save(f'models/ql_fed_dqn_with_lidar_{lidar_sample_size}.h5')\n",
    "\n",
    "model.save(f'models/ql_fed_dqn_with_lidar_{lidar_sample_size}.h5')"
   ]
  },
  {
   "cell_type": "code",
   "execution_count": 17,
   "metadata": {},
   "outputs": [
    {
     "data": {
      "text/plain": [
       "0.58"
      ]
     },
     "execution_count": 17,
     "metadata": {},
     "output_type": "execute_result"
    }
   ],
   "source": [
    "test(100)"
   ]
  }
 ],
 "metadata": {
  "kernelspec": {
   "display_name": "Python 3",
   "language": "python",
   "name": "python3"
  },
  "language_info": {
   "codemirror_mode": {
    "name": "ipython",
    "version": 3
   },
   "file_extension": ".py",
   "mimetype": "text/x-python",
   "name": "python",
   "nbconvert_exporter": "python",
   "pygments_lexer": "ipython3",
   "version": "3.9.17"
  },
  "orig_nbformat": 4
 },
 "nbformat": 4,
 "nbformat_minor": 2
}
