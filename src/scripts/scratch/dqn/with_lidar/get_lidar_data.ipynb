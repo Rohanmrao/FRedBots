{
 "cells": [
  {
   "cell_type": "code",
   "execution_count": null,
   "metadata": {},
   "outputs": [],
   "source": [
    "import math\n",
    "import rospy\n",
    "import pickle\n",
    "import time\n",
    "\n",
    "from gazebo_msgs.srv import SetModelState\n",
    "from gazebo_msgs.msg import ModelState\n",
    "from sensor_msgs.msg import LaserScan\n",
    "\n",
    "from tf.transformations import quaternion_from_euler"
   ]
  },
  {
   "cell_type": "code",
   "execution_count": null,
   "metadata": {},
   "outputs": [],
   "source": [
    "env_row = 21\n",
    "env_col = 21\n",
    "obstacles = [[3, 0], [3, 1], [3, 2], [3, 3], [3, 4], [3, 5], [3, 6], [3, 7], [3, 8], [3, 9],\n",
    "             [8, 9], [8, 10], [8, 11], [8, 12], [8, 13], [8, 14], [8, 15], [8, 16], [8, 17], [8, 18], [8, 19], [8, 20],\n",
    "             [14, 0], [14, 1], [14, 2], [14, 3], [14, 4], [14, 5], [14, 6], [14, 7], [14, 8], [14, 9]]\n",
    "laser_data = None"
   ]
  },
  {
   "cell_type": "code",
   "execution_count": null,
   "metadata": {},
   "outputs": [],
   "source": [
    "def laser_callback(msg):\n",
    "\n",
    "    global laser_data\n",
    "    laser_data = msg.ranges"
   ]
  },
  {
   "cell_type": "code",
   "execution_count": null,
   "metadata": {},
   "outputs": [],
   "source": [
    "rospy.init_node('get_lidar_data', anonymous=True)\n",
    "lidar =  rospy.Subscriber(\"/scan\", LaserScan, laser_callback)\n",
    "set_model_state_proxy = rospy.ServiceProxy('/gazebo/set_model_state', SetModelState)"
   ]
  },
  {
   "cell_type": "code",
   "execution_count": null,
   "metadata": {},
   "outputs": [],
   "source": [
    "def reset_atom(pos_x, pos_y):\n",
    "    \n",
    "    set_model_state_msg = ModelState()\n",
    "    set_model_state_msg.model_name = 'atom'\n",
    "    set_model_state_msg.pose.position.x = pos_x\n",
    "    set_model_state_msg.pose.position.y = pos_y\n",
    "    set_model_state_msg.pose.position.z = 0\n",
    "    q_x, q_y, q_z, q_w = quaternion_from_euler(0, 0, math.pi/2)\n",
    "    set_model_state_msg.pose.orientation.x = q_x\n",
    "    set_model_state_msg.pose.orientation.y = q_y\n",
    "    set_model_state_msg.pose.orientation.z = q_z\n",
    "    set_model_state_msg.pose.orientation.w = q_w\n",
    "    set_model_state_proxy(set_model_state_msg)"
   ]
  },
  {
   "cell_type": "code",
   "execution_count": null,
   "metadata": {},
   "outputs": [],
   "source": [
    "lidar_data = {}\n",
    "for i in range(env_row):\n",
    "    for j in range(env_col):\n",
    "        if [i, j] in obstacles:\n",
    "            continue\n",
    "        reset_atom(i-10, j-10)\n",
    "        time.sleep(1)\n",
    "        lidar_data[(i, j)] = laser_data"
   ]
  },
  {
   "cell_type": "code",
   "execution_count": null,
   "metadata": {},
   "outputs": [],
   "source": [
    "filee = open(f'lidar_data_{env_row}x{env_col}.bin', 'wb')\n",
    "pickle.dump(lidar_data, filee)\n",
    "filee.close()"
   ]
  }
 ],
 "metadata": {
  "kernelspec": {
   "display_name": "Python 3",
   "language": "python",
   "name": "python3"
  },
  "language_info": {
   "codemirror_mode": {
    "name": "ipython",
    "version": 3
   },
   "file_extension": ".py",
   "mimetype": "text/x-python",
   "name": "python",
   "nbconvert_exporter": "python",
   "pygments_lexer": "ipython3",
   "version": "3.8.10"
  },
  "orig_nbformat": 4
 },
 "nbformat": 4,
 "nbformat_minor": 2
}
