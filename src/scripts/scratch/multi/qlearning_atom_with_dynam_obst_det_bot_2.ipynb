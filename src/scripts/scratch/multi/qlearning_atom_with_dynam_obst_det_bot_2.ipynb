{
 "cells": [
  {
   "cell_type": "code",
   "execution_count": null,
   "metadata": {},
   "outputs": [],
   "source": [
    "import math\n",
    "import rospy\n",
    "import numpy as np\n",
    "\n",
    "from turtlesim.srv import TeleportAbsolute\n",
    "from std_srvs.srv import Empty\n",
    "from turtlesim.msg import Pose\n",
    "from geometry_msgs.msg import Twist\n",
    "from turtlesim.srv import Spawn\n",
    "from nav_msgs.msg import Odometry\n",
    "from gazebo_msgs.srv import SetModelState\n",
    "from gazebo_msgs.msg import ModelState\n",
    "from sensor_msgs.msg import LaserScan\n",
    "\n",
    "from tf.transformations import euler_from_quaternion"
   ]
  },
  {
   "cell_type": "code",
   "execution_count": null,
   "metadata": {},
   "outputs": [],
   "source": [
    "env_row = 11\n",
    "env_col = 11\n",
    "\n",
    "# define actions\n",
    "# numeric action codes: 0 = up, 1 = right, 2 = down, 3 = left\n",
    "actions = ['up', 'right', 'down', 'left']\n",
    "\n",
    "q_values = np.zeros((env_row, env_col, len(actions)))\n",
    "\n",
    "# initialise rewards\n",
    "rewards = np.full((env_row, env_col), -100.)"
   ]
  },
  {
   "cell_type": "code",
   "execution_count": null,
   "metadata": {},
   "outputs": [],
   "source": [
    "def get_euclidian_dist(x1,y1,x2,y2):\n",
    "    return np.sqrt((x1-x2)**2 + (y1-y2)**2)"
   ]
  },
  {
   "cell_type": "code",
   "execution_count": null,
   "metadata": {},
   "outputs": [],
   "source": [
    "goal_x = 1  # int(input(\"Please enter goal x coordinate: \"))\n",
    "goal_y = 9  # int(input(\"Please enter goal y coordinate: \"))\n",
    "\n",
    "# obstacles = [[2,0],[2,1],[2,2],[2,3],[2,4],[3,5]]\n",
    "obstacles = []\n",
    "\n",
    "# assign reward value to goal\n",
    "for i in range(len(q_values)):\n",
    "    for j in range(len(q_values[0])):\n",
    "        rewards[i][j] = - get_euclidian_dist(i,j,goal_x,goal_y)\n",
    "\n",
    "# assign reward value to obstacles\n",
    "for obstacle in obstacles:\n",
    "    rewards[obstacle[0]][obstacle[1]] = -100"
   ]
  },
  {
   "cell_type": "code",
   "execution_count": null,
   "metadata": {},
   "outputs": [],
   "source": [
    "# No terminal state"
   ]
  },
  {
   "cell_type": "code",
   "execution_count": null,
   "metadata": {},
   "outputs": [],
   "source": [
    "def is_final_state(row, col):\n",
    "    if row == goal_x and col == goal_y:\n",
    "        return True\n",
    "    else:\n",
    "        return False"
   ]
  },
  {
   "cell_type": "code",
   "execution_count": null,
   "metadata": {},
   "outputs": [],
   "source": [
    "#define a function that will choose a random, non-terminal starting location\n",
    "def get_starting_location():\n",
    "  #get a random row and column index\n",
    "  current_row_index = np.random.randint(env_row)\n",
    "  current_column_index = np.random.randint(env_col)\n",
    "\n",
    "  return current_row_index, current_column_index"
   ]
  },
  {
   "cell_type": "code",
   "execution_count": null,
   "metadata": {},
   "outputs": [],
   "source": [
    "#define an epsilon greedy algorithm that will choose which action to take next (i.e., where to move next)\n",
    "def get_next_action(current_row_index, current_column_index, epsilon):\n",
    "  #if a randomly chosen value between 0 and 1 is less than epsilon, \n",
    "  #then choose the most promising value from the Q-table for this state.\n",
    "  if np.random.random() < epsilon:\n",
    "    return np.argmax(q_values[current_row_index, current_column_index])\n",
    "  else: #choose a random action\n",
    "    return np.random.randint(4)"
   ]
  },
  {
   "cell_type": "code",
   "execution_count": null,
   "metadata": {},
   "outputs": [],
   "source": [
    "#define a function that will get the next location based on the chosen action\n",
    "def get_next_location(current_row_index, current_column_index, action_index):\n",
    "  new_row_index = current_row_index\n",
    "  new_column_index = current_column_index\n",
    "  if actions[action_index] == 'up' and current_row_index > 0:\n",
    "    new_row_index -= 1\n",
    "  elif actions[action_index] == 'right' and current_column_index < env_col - 1:\n",
    "    new_column_index += 1\n",
    "  elif actions[action_index] == 'down' and current_row_index < env_row - 1:\n",
    "    new_row_index += 1\n",
    "  elif actions[action_index] == 'left' and current_column_index > 0:\n",
    "    new_column_index -= 1\n",
    "  return new_row_index, new_column_index\n"
   ]
  },
  {
   "cell_type": "code",
   "execution_count": null,
   "metadata": {},
   "outputs": [],
   "source": [
    "x1 = 0\n",
    "y1 = 0\n",
    "z1 = 0\n",
    "theta1 = 0\n",
    "\n",
    "# TODO       \n",
    "\n",
    "def pose_callback(data):\n",
    "    global x1,y1,z1,theta1\n",
    "    x1 = data.pose.pose.position.x\n",
    "    y1 = data.pose.pose.position.y\n",
    "    roll, pitch, theta1 = euler_from_quaternion([data.pose.pose.orientation.x, data.pose.pose.orientation.y, data.pose.pose.orientation.z, data.pose.pose.orientation.w])\n",
    "\n",
    "def Goto_goal(x_goal, y_goal):\n",
    "    global x1,y1,theta1\n",
    "    msg = Twist()\n",
    "\n",
    "\n",
    "    rate = rospy.Rate(10)\n",
    "\n",
    "    distance = abs(math.sqrt(((x_goal-x1)**2)+((y_goal-y1)**2)))\n",
    "\n",
    "    ang_dist = math.atan2((y_goal-y1),(x_goal-x1))\n",
    "    # what does atan2 do?\n",
    "    \n",
    "    while (abs(ang_dist-theta1)>0.05):\n",
    "        Phi = 4\n",
    "        ang_dist = math.atan2((y_goal-y1),(x_goal-x1))\n",
    "\n",
    "        ang_speed = Phi*(ang_dist-theta1)\n",
    "\n",
    "        msg.linear.x = 0\n",
    "        msg.angular.z = ang_speed\n",
    "\n",
    "        pub.publish(msg)\n",
    "\n",
    "    # rospy.sleep(2)\n",
    "\n",
    "    while (distance>0.15):        \n",
    "        Beta = 0.75\n",
    "        distance = abs(math.sqrt(((x_goal-x1)**2)+((y_goal-y1)**2)))\n",
    "\n",
    "        speed = distance*Beta\n",
    "\n",
    "        msg.linear.x = speed\n",
    "        msg.angular.z = 0\n",
    "\n",
    "        pub.publish(msg)\n",
    "\n",
    "    msg.linear.x = 0\n",
    "    msg.angular.z = 0\n",
    "    pub.publish(msg)\n",
    "    # global x1,y1,theta1\n",
    "    # msg = Twist()\n",
    "\n",
    "    # while(True):\n",
    "    #     Beta = 0.5\n",
    "    #     distance = abs(math.sqrt(((x_goal-x1)**2)+((y_goal-y1)**2)))\n",
    "\n",
    "    #     speed = distance*Beta\n",
    "\n",
    "    #     Phi = 4\n",
    "    #     ang_dist = math.atan2((y_goal-y1),(x_goal-x1))\n",
    "\n",
    "    #     ang_speed = Phi*(ang_dist-theta1)\n",
    "\n",
    "    #     msg.linear.x = speed\n",
    "    #     msg.angular.z = ang_speed\n",
    "\n",
    "    #     pub.publish(msg)\n",
    "\n",
    "    #     if (distance<0.1):\n",
    "    #         msg.linear.x = 0\n",
    "    #         msg.angular.z = 0\n",
    "    #         pub.publish(msg)\n",
    "    #         break"
   ]
  },
  {
   "cell_type": "code",
   "execution_count": null,
   "metadata": {},
   "outputs": [],
   "source": [
    "def reset_atom():\n",
    "    set_model_state_proxy = rospy.ServiceProxy('/gazebo/set_model_state', SetModelState)\n",
    "    set_model_state_msg = ModelState()\n",
    "    set_model_state_msg.model_name = 'atom'\n",
    "    set_model_state_msg.pose.position.x = start_pos_x\n",
    "    set_model_state_msg.pose.position.y = start_pos_y\n",
    "    set_model_state_msg.pose.position.z = 0\n",
    "    set_model_state_msg.pose.orientation.x = 0\n",
    "    set_model_state_msg.pose.orientation.y = 0\n",
    "    set_model_state_msg.pose.orientation.z = 0\n",
    "    set_model_state_msg.pose.orientation.w = 1\n",
    "    set_model_state_proxy(set_model_state_msg)\n",
    "\n",
    "def stop_atom():\n",
    "    pub = rospy.Publisher('/atom/cmd_vel', Twist, queue_size=1)\n",
    "    twist = Twist()\n",
    "    pub.publish(twist)"
   ]
  },
  {
   "cell_type": "code",
   "execution_count": null,
   "metadata": {},
   "outputs": [],
   "source": [
    "#define training parameters\n",
    "epsilon = 0.9 #the percentage of time when we should take the best action (instead of a random action)\n",
    "discount_factor = 0.9 #discount factor for future rewards\n",
    "learning_rate = 0.9 #the rate at which the agent should learn"
   ]
  },
  {
   "cell_type": "code",
   "execution_count": null,
   "metadata": {},
   "outputs": [],
   "source": [
    "#run through 1000 training episodes\n",
    "def train():\n",
    "  print(\"Obstacles are at:\" + str(obstacles))\n",
    "  for obstacle in obstacles:\n",
    "    rewards[obstacle[0]][obstacle[1]] = -100 #remove the reward for any actions that lead to the obstacle\n",
    "  for episode in range(1000):\n",
    "    #get the starting location for this episode\n",
    "    row_index, column_index = get_starting_location()\n",
    "    #continue taking actions (i.e., moving) until we reach a terminal state\n",
    "    #(i.e., until we reach the item packaging area or crash into an item storage location)\n",
    "    while not is_final_state(row_index, column_index):\n",
    "      #choose which action to take (i.e., where to move next)\n",
    "      action_index = get_next_action(row_index, column_index, epsilon)\n",
    "      #perform the chosen action, and transition to the next state (i.e., move to the next location)\n",
    "      old_row_index, old_column_index = row_index, column_index #store the old row and column indexes\n",
    "      row_index, column_index = get_next_location(row_index, column_index, action_index)\n",
    "      #receive the reward for moving to the new state, and calculate the temporal difference\n",
    "      reward = rewards[row_index, column_index]\n",
    "      old_q_value = q_values[old_row_index, old_column_index, action_index]\n",
    "      temporal_difference = reward + (discount_factor * np.max(q_values[row_index, column_index])) - old_q_value\n",
    "      #update the Q-value for the previous state and action pair\n",
    "      new_q_value = old_q_value + (learning_rate * temporal_difference)\n",
    "      q_values[old_row_index, old_column_index, action_index] = new_q_value\n",
    "  print('Training complete!')"
   ]
  },
  {
   "cell_type": "code",
   "execution_count": null,
   "metadata": {},
   "outputs": [],
   "source": [
    "def update_obst_coord(range_data, theta_min, theta_max, num_samples):\n",
    "\n",
    "    # Get the angle of each sample\n",
    "    thetas = np.linspace(theta_min, theta_max, num_samples)\n",
    "\n",
    "    # Adjust theta according to the orientation of the robot\n",
    "    thetas = theta1 + thetas\n",
    "\n",
    "    # Get the apparent x and y coordinates of each sample\n",
    "    xs, ys = [], []\n",
    "    for i in range(num_samples):\n",
    "        if range_data[i] < 5:\n",
    "            xs.append(range_data[i] * np.cos(thetas[i]))\n",
    "            ys.append(range_data[i] * np.sin(thetas[i]))\n",
    "        else:\n",
    "            xs.append(float('inf'))\n",
    "            ys.append(float('inf'))\n",
    "\n",
    "    # Calculate the lidar's offset from the robot's center\n",
    "    l_x = x1 + 0.2 * np.cos(theta1)\n",
    "    l_y = y1 + 0.2 * np.sin(theta1)\n",
    "\n",
    "    # Get the x and y coordinates of each sample\n",
    "    obst_coord = [(xs[i]+l_x, ys[i]+l_y) for i in range(num_samples)]\n",
    "\n",
    "    return obst_coord\n",
    "    "
   ]
  },
  {
   "cell_type": "code",
   "execution_count": null,
   "metadata": {},
   "outputs": [],
   "source": [
    "def approx_new_coord(coord):\n",
    "    flag = 0\n",
    "    for (i,j) in coord:\n",
    "        if (i == float('inf')) or (i == float('-inf')) or (j == float('inf')) or (j == float('-inf')):\n",
    "            continue\n",
    "        else:\n",
    "            i_r = int(round(i,0))\n",
    "            j_r = int(round(j,0))\n",
    "            if [i_r,j_r] in obstacles:\n",
    "                continue\n",
    "            else:\n",
    "                obstacles.append([i_r,j_r])\n",
    "                flag = 1\n",
    "    if flag == 1:\n",
    "        train()         "
   ]
  },
  {
   "cell_type": "code",
   "execution_count": null,
   "metadata": {},
   "outputs": [],
   "source": [
    "def laser_callback(msg):\n",
    "\n",
    "    laser_range = msg.ranges\n",
    "\n",
    "    coord = update_obst_coord(laser_range, msg.angle_min, msg.angle_max, len(laser_range))\n",
    "\n",
    "    approx_new_coord(coord)"
   ]
  },
  {
   "cell_type": "code",
   "execution_count": null,
   "metadata": {},
   "outputs": [],
   "source": [
    "#Define a function that will get the shortest path between any location within the warehouse that \n",
    "#the robot is allowed to travel and the item packaging location.\n",
    "def get_shortest_path(start_row_index, start_column_index, atom_sim=False):\n",
    "  #return immediately if this is an invalid starting location\n",
    "  train()\n",
    "  if is_final_state(start_row_index, start_column_index):\n",
    "    return []\n",
    "  else: #if this is a 'legal' starting location\n",
    "    current_row_index, current_column_index = start_row_index, start_column_index\n",
    "    shortest_path = []\n",
    "    shortest_path.append([current_row_index, current_column_index])\n",
    "    #continue moving along the path until we reach the goal (i.e., the item packaging location)\n",
    "    while not is_final_state(current_row_index, current_column_index):\n",
    "      #get the best action to take\n",
    "      action_index = get_next_action(current_row_index, current_column_index, 1.)\n",
    "      #move to the next location on the path, and add the new location to the list\n",
    "      current_row_index, current_column_index = get_next_location(current_row_index, current_column_index, action_index)\n",
    "      shortest_path.append([current_row_index, current_column_index])\n",
    "      global obstacles\n",
    "      obstacles = []\n",
    "      if atom_sim:\n",
    "        print(\"Moving to location: \", current_row_index, current_column_index)\n",
    "        Goto_goal(current_row_index, current_column_index)\n",
    "    \n",
    "    return shortest_path"
   ]
  },
  {
   "cell_type": "code",
   "execution_count": null,
   "metadata": {},
   "outputs": [],
   "source": [
    "# #display a few shortest paths\n",
    "# print(get_shortest_path(3, 9)) #starting at row 3, column 9\n",
    "# print(get_shortest_path(5, 0)) #starting at row 5, column 0\n",
    "# print(get_shortest_path(9, 5)) #starting at row 9, column 5"
   ]
  },
  {
   "cell_type": "code",
   "execution_count": null,
   "metadata": {},
   "outputs": [],
   "source": [
    "# Teleport turtlesim to the starting location\n",
    "# def teleport_turtle(x, y):\n",
    "#     rospy.wait_for_service('/turtle1/teleport_absolute')\n",
    "#     try:\n",
    "#         teleport = rospy.ServiceProxy('/turtle1/teleport_absolute', TeleportAbsolute)\n",
    "#         teleport(x, y, 0)\n",
    "#     except rospy.ServiceException as e:\n",
    "#         print(\"Service call failed: %s\"%e)"
   ]
  },
  {
   "cell_type": "code",
   "execution_count": null,
   "metadata": {},
   "outputs": [],
   "source": [
    "# def clear_path():\n",
    "\n",
    "#     # Stop the turtle's movement\n",
    "#     pub = rospy.Publisher('/turtle1/cmd_vel', Twist, queue_size=1)\n",
    "#     twist = Twist()\n",
    "#     pub.publish(twist)\n",
    "\n",
    "#     # Clear the path\n",
    "#     clear_path_service = rospy.ServiceProxy('/clear', Empty)\n",
    "#     clear_path_service()"
   ]
  },
  {
   "cell_type": "code",
   "execution_count": null,
   "metadata": {},
   "outputs": [],
   "source": [
    "# def spawn_target(x, y):\n",
    "#     # Spawn the target\n",
    "#     spawn_target_service = rospy.ServiceProxy('/spawn', Spawn)\n",
    "#     spawn_target_service(x, y, 0, 'target')"
   ]
  },
  {
   "cell_type": "code",
   "execution_count": null,
   "metadata": {},
   "outputs": [],
   "source": [
    "rospy.init_node(\"Shortest_path_atom_2\")\n",
    "pub = rospy.Publisher(\"/atom_2/cmd_vel\",Twist, queue_size =10)\n",
    "sub = rospy.Subscriber(\"/atom_2/odom\", Odometry, pose_callback)\n",
    "las = rospy.Subscriber(\"/scan_2\", LaserScan, laser_callback)\n",
    "\n",
    "rospy.sleep(1)\n",
    "\n",
    "start_pos_x = int(round(x1,0))\n",
    "start_pos_y = int(round(y1,0))\n",
    "print(start_pos_x, start_pos_y)\n",
    "# teleport_turtle(start_pos_x, start_pos_y)\n",
    "# clear_path()\n",
    "# try:\n",
    "#     spawn_target(goal_x, goal_y)\n",
    "# except rospy.ServiceException as e:\n",
    "#     print(\"Service call failed: %s\"%e)"
   ]
  },
  {
   "cell_type": "code",
   "execution_count": null,
   "metadata": {},
   "outputs": [],
   "source": [
    "get_shortest_path(start_pos_x, start_pos_y, atom_sim=True)"
   ]
  },
  {
   "cell_type": "code",
   "execution_count": null,
   "metadata": {},
   "outputs": [],
   "source": [
    "stop_atom()\n",
    "reset_atom()\n",
    "obstacles = []"
   ]
  },
  {
   "cell_type": "code",
   "execution_count": null,
   "metadata": {},
   "outputs": [],
   "source": []
  }
 ],
 "metadata": {
  "kernelspec": {
   "display_name": "Python 3",
   "language": "python",
   "name": "python3"
  },
  "language_info": {
   "codemirror_mode": {
    "name": "ipython",
    "version": 3
   },
   "file_extension": ".py",
   "mimetype": "text/x-python",
   "name": "python",
   "nbconvert_exporter": "python",
   "pygments_lexer": "ipython3",
   "version": "3.8.10"
  },
  "orig_nbformat": 4
 },
 "nbformat": 4,
 "nbformat_minor": 2
}
